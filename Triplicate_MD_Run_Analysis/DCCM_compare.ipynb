{
  "nbformat": 4,
  "nbformat_minor": 0,
  "metadata": {
    "colab": {
      "provenance": []
    },
    "kernelspec": {
      "name": "ir",
      "display_name": "R"
    },
    "language_info": {
      "name": "R"
    }
  },
  "cells": [
    {
      "cell_type": "code",
      "source": [
        "install.packages(\"bio3d\", dependencies=TRUE)"
      ],
      "metadata": {
        "colab": {
          "base_uri": "https://localhost:8080/"
        },
        "id": "KFhWdOQsLmKK",
        "outputId": "e1abf69c-203d-495f-e582-e154a35e09f3"
      },
      "execution_count": 2,
      "outputs": [
        {
          "output_type": "stream",
          "name": "stderr",
          "text": [
            "Installing package into ‘/usr/local/lib/R/site-library’\n",
            "(as ‘lib’ is unspecified)\n",
            "\n",
            "Warning message:\n",
            "“dependencies ‘msa’, ‘Biostrings’ are not available”\n",
            "also installing the dependencies ‘bitops’, ‘bigmemory.sri’, ‘BH’, ‘Rcpp’, ‘XML’, ‘RCurl’, ‘ncdf4’, ‘igraph’, ‘bigmemory’\n",
            "\n",
            "\n"
          ]
        }
      ]
    },
    {
      "cell_type": "code",
      "source": [
        "install.packages(\"viridis\")"
      ],
      "metadata": {
        "colab": {
          "base_uri": "https://localhost:8080/"
        },
        "id": "s9VFRF_0Nqb7",
        "outputId": "aebfb01b-0612-4540-d78d-ece656755959"
      },
      "execution_count": 4,
      "outputs": [
        {
          "output_type": "stream",
          "name": "stderr",
          "text": [
            "Installing package into ‘/usr/local/lib/R/site-library’\n",
            "(as ‘lib’ is unspecified)\n",
            "\n",
            "also installing the dependency ‘gridExtra’\n",
            "\n",
            "\n"
          ]
        }
      ]
    },
    {
      "cell_type": "code",
      "source": [
        "install.packages(\"fields\")"
      ],
      "metadata": {
        "colab": {
          "base_uri": "https://localhost:8080/"
        },
        "id": "h7xCqQ1dOyYr",
        "outputId": "5f872ffa-1690-4664-94e6-761f3aac70ce"
      },
      "execution_count": 9,
      "outputs": [
        {
          "output_type": "stream",
          "name": "stderr",
          "text": [
            "Installing package into ‘/usr/local/lib/R/site-library’\n",
            "(as ‘lib’ is unspecified)\n",
            "\n",
            "also installing the dependencies ‘dotCall64’, ‘spam’, ‘maps’\n",
            "\n",
            "\n"
          ]
        }
      ]
    },
    {
      "cell_type": "code",
      "source": [
        "install.packages(\"lattice\")"
      ],
      "metadata": {
        "colab": {
          "base_uri": "https://localhost:8080/"
        },
        "id": "zbEaqhUAQeIj",
        "outputId": "8e4e6682-ed36-4dae-86aa-74063b6dc6e5"
      },
      "execution_count": 15,
      "outputs": [
        {
          "output_type": "stream",
          "name": "stderr",
          "text": [
            "Installing package into ‘/usr/local/lib/R/site-library’\n",
            "(as ‘lib’ is unspecified)\n",
            "\n"
          ]
        }
      ]
    },
    {
      "cell_type": "code",
      "execution_count": 27,
      "metadata": {
        "colab": {
          "base_uri": "https://localhost:8080/",
          "height": 468
        },
        "id": "bNj_gla-FDe6",
        "outputId": "cb3197e2-fccd-463d-b7e9-5dde7013c88c"
      },
      "outputs": [
        {
          "output_type": "stream",
          "name": "stderr",
          "text": [
            "Warning message in dcd.header(trj, verbose):\n",
            "“Check DCD header data is correct, particulary natom”\n"
          ]
        },
        {
          "output_type": "stream",
          "name": "stdout",
          "text": [
            " NATOM = 92187 \n",
            " NFRAME= 24 \n",
            " ISTART= 0 \n",
            " last  = 24 \n",
            " nstep = 24 \n",
            " nfile = 24 \n",
            " NSAVE = 1 \n",
            " NDEGF = 0 \n",
            " version 24 \n",
            "  |======================================================================| 100%\n"
          ]
        },
        {
          "output_type": "stream",
          "name": "stderr",
          "text": [
            "Warning message in dcd.header(trj, verbose):\n",
            "“Check DCD header data is correct, particulary natom”\n"
          ]
        },
        {
          "output_type": "stream",
          "name": "stdout",
          "text": [
            " NATOM = 65083 \n",
            " NFRAME= 101 \n",
            " ISTART= 0 \n",
            " last  = 101 \n",
            " nstep = 101 \n",
            " nfile = 101 \n",
            " NSAVE = 1 \n",
            " NDEGF = 0 \n",
            " version 24 \n",
            "  |======================================================================| 100%\n",
            "   PDB has ALT records, taking A only, rm.alt=TRUE\n"
          ]
        },
        {
          "output_type": "display_data",
          "data": {
            "text/html": [
              "<strong>png:</strong> 2"
            ],
            "text/markdown": "**png:** 2",
            "text/latex": "\\textbf{png:} 2",
            "text/plain": [
              "png \n",
              "  2 "
            ]
          },
          "metadata": {}
        }
      ],
      "source": [
        "library(bio3d)\n",
        "library(viridis)\n",
        "library(fields)\n",
        "\n",
        "# Load the DCD file for System A (free protein)\n",
        "dcdfile_A <- \"protein.dcd\"\n",
        "dcd_A <- read.dcd(dcdfile_A)\n",
        "\n",
        "# Load the DCD file for System B (protein with ligand)\n",
        "dcdfile_B <- \"protein_fad.dcd\"\n",
        "dcd_B <- read.dcd(dcdfile_B)\n",
        "\n",
        "# Load the PDB file (common for both systems)\n",
        "pdbfile <- \"3dk9.pdb\"\n",
        "pdb <- read.pdb(pdbfile)\n",
        "\n",
        "# Select CA atoms\n",
        "ca.inds <- atom.select(pdb, elety = \"CA\")\n",
        "\n",
        "# Fit the coordinates for System A\n",
        "xyz_A <- fit.xyz(fixed = pdb$xyz, mobile = dcd_A, fixed.inds = ca.inds$xyz, mobile.inds = ca.inds$xyz)\n",
        "\n",
        "# Fit the coordinates for System B\n",
        "xyz_B <- fit.xyz(fixed = pdb$xyz, mobile = dcd_B, fixed.inds = ca.inds$xyz, mobile.inds = ca.inds$xyz)\n",
        "\n",
        "# Calculate DCCM for System A\n",
        "cij_A <- dccm(xyz_A[, ca.inds$xyz])\n",
        "\n",
        "# Calculate DCCM for System B\n",
        "cij_B <- dccm(xyz_B[, ca.inds$xyz])\n",
        "\n",
        "# Create a single DCCM matrix with the upper triangle for System A and lower triangle for System B\n",
        "full_cij <- matrix(0, nrow = nrow(cij_A), ncol = ncol(cij_A))\n",
        "full_cij[upper.tri(full_cij)] <- cij_A[upper.tri(cij_A)]\n",
        "full_cij[lower.tri(full_cij)] <- cij_B[lower.tri(cij_B)]\n",
        "\n",
        "# Set the color palette to viridis\n",
        "col_fun <- viridis::viridis(100)\n",
        "\n",
        "# Increase fontsize of x and y axis labels and ticks\n",
        "par(cex.axis = 5, cex.lab = 5)\n",
        "\n",
        "# Save the plot in PNG format at 300 DPI\n",
        "png(\"dccm_plot.png\", width = 8, height = 8, units = \"in\", res = 300)\n",
        "image.plot(full_cij,\n",
        "      col = col_fun,\n",
        "      xlab = \"Residue\",\n",
        "      ylab = \"Residue\",\n",
        "      legend.shrink = 0.8)  # Adjust the size of the color bar\n",
        "dev.off()  # Close the PNG device"
      ]
    },
    {
      "cell_type": "code",
      "source": [],
      "metadata": {
        "id": "BnN68qPhLjXy"
      },
      "execution_count": null,
      "outputs": []
    }
  ]
}